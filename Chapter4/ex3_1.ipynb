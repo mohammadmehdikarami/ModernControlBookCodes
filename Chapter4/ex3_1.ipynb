{
 "cells": [
  {
   "cell_type": "markdown",
   "metadata": {},
   "source": [
    "## Import necessary libraries"
   ]
  },
  {
   "cell_type": "code",
   "execution_count": 1,
   "metadata": {},
   "outputs": [],
   "source": [
    "import numpy as np\n",
    "from scipy.linalg import null_space"
   ]
  },
  {
   "cell_type": "markdown",
   "metadata": {},
   "source": [
    "## Define the state-space matrices"
   ]
  },
  {
   "cell_type": "code",
   "execution_count": 2,
   "metadata": {},
   "outputs": [],
   "source": [
    "A = np.array([\n",
    "    [-3/2, 1/2],\n",
    "    [1/2, -3/2]\n",
    "])\n",
    "C = np.array([[1, -1]])"
   ]
  },
  {
   "cell_type": "markdown",
   "metadata": {},
   "source": [
    "## Function to compute the observability matrix"
   ]
  },
  {
   "cell_type": "code",
   "execution_count": 3,
   "metadata": {},
   "outputs": [],
   "source": [
    "def observability_matrix(A, C):\n",
    "    n = A.shape[0]\n",
    "    O = C\n",
    "    for i in range(1, n):\n",
    "        O = np.vstack((O, np.dot(C, np.linalg.matrix_power(A, i))))\n",
    "    return O"
   ]
  },
  {
   "cell_type": "markdown",
   "metadata": {},
   "source": [
    "## Calculate the observability matrix"
   ]
  },
  {
   "cell_type": "code",
   "execution_count": 4,
   "metadata": {},
   "outputs": [],
   "source": [
    "O = observability_matrix(A, C)"
   ]
  },
  {
   "cell_type": "markdown",
   "metadata": {},
   "source": [
    "## Calculate the rank of the observability matrix"
   ]
  },
  {
   "cell_type": "code",
   "execution_count": 5,
   "metadata": {},
   "outputs": [],
   "source": [
    "rank_O = np.linalg.matrix_rank(O)"
   ]
  },
  {
   "cell_type": "markdown",
   "metadata": {},
   "source": [
    "## Calculate the null space of the observability matrix"
   ]
  },
  {
   "cell_type": "code",
   "execution_count": 6,
   "metadata": {},
   "outputs": [],
   "source": [
    "null_O = null_space(O)"
   ]
  },
  {
   "cell_type": "markdown",
   "metadata": {},
   "source": [
    "## Display the results"
   ]
  },
  {
   "cell_type": "code",
   "execution_count": 7,
   "metadata": {},
   "outputs": [
    {
     "name": "stdout",
     "output_type": "stream",
     "text": [
      "Observability Matrix (O):\n",
      "[[ 1. -1.]\n",
      " [-2.  2.]]\n",
      "\n",
      "Rank of Observability Matrix:\n",
      "1\n",
      "\n",
      "Null Space of Observability Matrix:\n",
      "[[0.70710678]\n",
      " [0.70710678]]\n"
     ]
    }
   ],
   "source": [
    "print(\"Observability Matrix (O):\")\n",
    "print(O)\n",
    "print(\"\\nRank of Observability Matrix:\")\n",
    "print(rank_O)\n",
    "print(\"\\nNull Space of Observability Matrix:\")\n",
    "print(null_O)"
   ]
  }
 ],
 "metadata": {
  "kernelspec": {
   "display_name": "Python 3",
   "language": "python",
   "name": "python3"
  },
  "language_info": {
   "codemirror_mode": {
    "name": "ipython",
    "version": 3
   },
   "file_extension": ".py",
   "mimetype": "text/x-python",
   "name": "python",
   "nbconvert_exporter": "python",
   "pygments_lexer": "ipython3",
   "version": "3.12.2"
  }
 },
 "nbformat": 4,
 "nbformat_minor": 2
}
