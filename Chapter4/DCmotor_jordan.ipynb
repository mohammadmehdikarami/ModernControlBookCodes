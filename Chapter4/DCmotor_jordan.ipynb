{
 "cells": [
  {
   "cell_type": "markdown",
   "metadata": {},
   "source": [
    "## Import necessary libraries"
   ]
  },
  {
   "cell_type": "code",
   "execution_count": 7,
   "metadata": {},
   "outputs": [],
   "source": [
    "import numpy as np\n",
    "from scipy import signal"
   ]
  },
  {
   "cell_type": "markdown",
   "metadata": {},
   "source": [
    "## Define the state-space matrices"
   ]
  },
  {
   "cell_type": "code",
   "execution_count": 14,
   "metadata": {},
   "outputs": [],
   "source": [
    "A = np.array([\n",
    "    [0, 1, 0],\n",
    "    [0, 0, 4.438],\n",
    "    [0, -12, -24]\n",
    "])\n",
    "b1 = np.array([0, 0, 20]).reshape(-1, 1)\n",
    "b2 = np.array([0, -7.396, 0]).reshape(-1, 1)\n",
    "B = np.hstack((b1, b2))\n",
    "C = np.array([\n",
    "    [1, 0, 0],\n",
    "    [0, 1, 0]\n",
    "])\n",
    "D = np.array([[0], [0]])"
   ]
  },
  {
   "cell_type": "markdown",
   "metadata": {},
   "source": [
    "## Create the state-space model using signal.StateSpace"
   ]
  },
  {
   "cell_type": "code",
   "execution_count": 15,
   "metadata": {},
   "outputs": [],
   "source": [
    "DC_motor = signal.StateSpace(A, b1, C, D)  # Note only first input is used"
   ]
  },
  {
   "cell_type": "markdown",
   "metadata": {},
   "source": [
    "## Calculate the eigenvalues and right eigenvectors of A"
   ]
  },
  {
   "cell_type": "code",
   "execution_count": 16,
   "metadata": {},
   "outputs": [],
   "source": [
    "eigenvalues, right_eigenvectors = np.linalg.eig(A)"
   ]
  },
  {
   "cell_type": "markdown",
   "metadata": {},
   "source": [
    "## Calculate the left eigenvectors of A"
   ]
  },
  {
   "cell_type": "code",
   "execution_count": 17,
   "metadata": {},
   "outputs": [],
   "source": [
    "_, left_eigenvectors = np.linalg.eig(A.T)"
   ]
  },
  {
   "cell_type": "markdown",
   "metadata": {},
   "source": [
    "## Display the results"
   ]
  },
  {
   "cell_type": "code",
   "execution_count": 18,
   "metadata": {},
   "outputs": [
    {
     "name": "stdout",
     "output_type": "stream",
     "text": [
      "Right Eigenvectors (V):\n",
      "[[ 1.         -0.33290784  0.00938002]\n",
      " [ 0.          0.82362581 -0.20191394]\n",
      " [ 0.         -0.45914364  0.97935835]]\n",
      "Eigenvalues (Lambda):\n",
      "[  0.          -2.47403548 -21.52596452]\n",
      "Left Eigenvectors (W):\n",
      "[[ 0.          0.          0.90907852]\n",
      " [-0.48691774 -0.97940144  0.40967937]\n",
      " [-0.87344783 -0.20192283  0.07575654]]\n"
     ]
    }
   ],
   "source": [
    "print(\"Right Eigenvectors (V):\")\n",
    "print(right_eigenvectors)\n",
    "print(\"Eigenvalues (Lambda):\")\n",
    "print(eigenvalues)\n",
    "print(\"Left Eigenvectors (W):\")\n",
    "print(left_eigenvectors)"
   ]
  }
 ],
 "metadata": {
  "kernelspec": {
   "display_name": "Python 3",
   "language": "python",
   "name": "python3"
  },
  "language_info": {
   "codemirror_mode": {
    "name": "ipython",
    "version": 3
   },
   "file_extension": ".py",
   "mimetype": "text/x-python",
   "name": "python",
   "nbconvert_exporter": "python",
   "pygments_lexer": "ipython3",
   "version": "3.12.2"
  }
 },
 "nbformat": 4,
 "nbformat_minor": 2
}
