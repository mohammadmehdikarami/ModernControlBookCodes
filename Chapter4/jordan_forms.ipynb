{
 "cells": [
  {
   "cell_type": "markdown",
   "metadata": {},
   "source": [
    "## Import necessary libraries"
   ]
  },
  {
   "cell_type": "code",
   "execution_count": 1,
   "metadata": {},
   "outputs": [],
   "source": [
    "import sympy as sp"
   ]
  },
  {
   "cell_type": "markdown",
   "metadata": {},
   "source": [
    "## Define the matrices for Inverted Pendulum"
   ]
  },
  {
   "cell_type": "code",
   "execution_count": 2,
   "metadata": {},
   "outputs": [],
   "source": [
    "A1 = sp.Matrix([\n",
    "    [0, 1, 0, 0],\n",
    "    [0, 0, -9.8, 0],\n",
    "    [0, 0, 0, 1],\n",
    "    [0, 0, 19.6, 0]\n",
    "])\n",
    "B1 = sp.Matrix([0, 1, 0, 1])\n",
    "C1 = sp.Matrix([\n",
    "    [1, 0, 0, 0],\n",
    "    [0, 0, 1, 0]\n",
    "])"
   ]
  },
  {
   "cell_type": "markdown",
   "metadata": {},
   "source": [
    "## Compute the Jordan form"
   ]
  },
  {
   "cell_type": "code",
   "execution_count": 3,
   "metadata": {},
   "outputs": [],
   "source": [
    "T1, J1 = A1.jordan_form()"
   ]
  },
  {
   "cell_type": "markdown",
   "metadata": {},
   "source": [
    "## Compute transformed B and C"
   ]
  },
  {
   "cell_type": "code",
   "execution_count": 4,
   "metadata": {},
   "outputs": [],
   "source": [
    "Bn1 = T1.inv() * B1\n",
    "Cn1 = C1 * T1"
   ]
  },
  {
   "cell_type": "markdown",
   "metadata": {},
   "source": [
    "## Display the results"
   ]
  },
  {
   "cell_type": "code",
   "execution_count": 5,
   "metadata": {},
   "outputs": [
    {
     "name": "stdout",
     "output_type": "stream",
     "text": [
      "Inverted Pendulum Jordan Form:\n",
      "⎡0  1.0          0                 0        ⎤\n",
      "⎢                                           ⎥\n",
      "⎢0   0           0                 0        ⎥\n",
      "⎢                                           ⎥\n",
      "⎢0   0   -4.42718872423573         0        ⎥\n",
      "⎢                                           ⎥\n",
      "⎣0   0           0          4.42718872423573⎦\n",
      "\n",
      "Transformation Matrix T:\n",
      "⎡1.0   0   0.112938487863156   -0.112938487863156⎤\n",
      "⎢                                                ⎥\n",
      "⎢ 0   1.0         -0.5                -0.5       ⎥\n",
      "⎢                                                ⎥\n",
      "⎢ 0    0   -0.225876975726313  0.225876975726313 ⎥\n",
      "⎢                                                ⎥\n",
      "⎣ 0    0          1.0                 1.0        ⎦\n",
      "\n",
      "Transformed B (Bn):\n",
      "⎡ 0 ⎤\n",
      "⎢   ⎥\n",
      "⎢1.5⎥\n",
      "⎢   ⎥\n",
      "⎢0.5⎥\n",
      "⎢   ⎥\n",
      "⎣0.5⎦\n",
      "\n",
      "Transformed C (Cn):\n",
      "⎡1.0  0  0.112938487863156   -0.112938487863156⎤\n",
      "⎢                                              ⎥\n",
      "⎣ 0   0  -0.225876975726313  0.225876975726313 ⎦\n"
     ]
    }
   ],
   "source": [
    "print(\"Inverted Pendulum Jordan Form:\")\n",
    "sp.pretty_print(J1)\n",
    "print(\"\\nTransformation Matrix T:\")\n",
    "sp.pretty_print(T1)\n",
    "print(\"\\nTransformed B (Bn):\")\n",
    "sp.pretty_print(Bn1)\n",
    "print(\"\\nTransformed C (Cn):\")\n",
    "sp.pretty_print(Cn1)"
   ]
  },
  {
   "cell_type": "markdown",
   "metadata": {},
   "source": [
    "## Define the matrices for Example 3-13"
   ]
  },
  {
   "cell_type": "code",
   "execution_count": 6,
   "metadata": {},
   "outputs": [],
   "source": [
    "A2 = sp.Matrix([\n",
    "    [0, 1, 0, 3],\n",
    "    [0, -1, 1, 10],\n",
    "    [0, 0, 0, 1],\n",
    "    [0, 0, -1, -2]\n",
    "])"
   ]
  },
  {
   "cell_type": "markdown",
   "metadata": {},
   "source": [
    "## Compute the Jordan form"
   ]
  },
  {
   "cell_type": "code",
   "execution_count": 7,
   "metadata": {},
   "outputs": [],
   "source": [
    "T2, J2 = A2.jordan_form()"
   ]
  },
  {
   "cell_type": "markdown",
   "metadata": {},
   "source": [
    "## Display the results"
   ]
  },
  {
   "cell_type": "code",
   "execution_count": 8,
   "metadata": {},
   "outputs": [
    {
     "name": "stdout",
     "output_type": "stream",
     "text": [
      "\n",
      "Example 3-13 Jordan Form:\n",
      "⎡-1  1   0   0⎤\n",
      "⎢             ⎥\n",
      "⎢0   -1  1   0⎥\n",
      "⎢             ⎥\n",
      "⎢0   0   -1  0⎥\n",
      "⎢             ⎥\n",
      "⎣0   0   0   0⎦\n",
      "\n",
      "Transformation Matrix T:\n",
      "⎡9   11  11  1⎤\n",
      "⎢             ⎥\n",
      "⎢-9  1   0   0⎥\n",
      "⎢             ⎥\n",
      "⎢0   1   1   0⎥\n",
      "⎢             ⎥\n",
      "⎣0   -1  0   0⎦\n"
     ]
    }
   ],
   "source": [
    "print(\"\\nExample 3-13 Jordan Form:\")\n",
    "sp.pretty_print(J2)\n",
    "print(\"\\nTransformation Matrix T:\")\n",
    "sp.pretty_print(T2)"
   ]
  }
 ],
 "metadata": {
  "kernelspec": {
   "display_name": "Python 3",
   "language": "python",
   "name": "python3"
  },
  "language_info": {
   "codemirror_mode": {
    "name": "ipython",
    "version": 3
   },
   "file_extension": ".py",
   "mimetype": "text/x-python",
   "name": "python",
   "nbconvert_exporter": "python",
   "pygments_lexer": "ipython3",
   "version": "3.12.2"
  }
 },
 "nbformat": 4,
 "nbformat_minor": 2
}
