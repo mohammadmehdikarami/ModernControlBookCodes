{
 "cells": [
  {
   "cell_type": "markdown",
   "metadata": {},
   "source": [
    "## Import necessary libraries"
   ]
  },
  {
   "cell_type": "code",
   "execution_count": 1,
   "metadata": {},
   "outputs": [],
   "source": [
    "import numpy as np"
   ]
  },
  {
   "cell_type": "markdown",
   "metadata": {},
   "source": [
    "## Define the model of the 2R Robot"
   ]
  },
  {
   "cell_type": "code",
   "execution_count": 2,
   "metadata": {},
   "outputs": [],
   "source": [
    "def robot_model(x, t):\n",
    "    g = 9.81\n",
    "    l1 = 1.0\n",
    "    l2 = 0.5\n",
    "    m1 = 2.0\n",
    "    m2 = 1.0\n",
    "    I1 = 1e-2\n",
    "    I2 = 5e-3\n",
    "    D = 2.0\n",
    "\n",
    "    # Define the state variables\n",
    "    theta1, theta2, omega1, omega2 = x\n",
    "\n",
    "    M = np.zeros((2, 2))\n",
    "    M[0, 0] = m1 * (l1 / 2) ** 2 + m2 * (l1 ** 2 + (l2 / 2) ** 2) + m2 * l1 * l2 * np.cos(theta2) + I1 + I2\n",
    "    M[0, 1] = m2 * (l2 / 2) ** 2 + 0.5 * m2 * l1 * l2 * np.cos(theta2) + I2\n",
    "    M[1, 0] = M[0, 1]\n",
    "    M[1, 1] = m2 * (l2 / 2) ** 2 + I2\n",
    "\n",
    "    V = np.zeros((2, 1))\n",
    "    V[0, 0] = -m2 * l1 * l2 * np.sin(theta2) * omega1 * omega2 - 0.5 * m2 * l1 * l2 * np.sin(theta2) * omega2 ** 2\n",
    "    V[1, 0] = -0.5 * m2 * l1 * l2 * np.sin(theta2) * omega1 * omega2\n",
    "\n",
    "    G = np.zeros((2, 1))\n",
    "    G[0, 0] = (m1 * l1 / 2 + m2 * l1) * g * np.cos(theta1) + m2 * g * l2 / 2 * np.cos(theta1 + theta2)\n",
    "    G[1, 0] = m2 * g * l2 / 2 * np.cos(theta1 + theta2)\n",
    "\n",
    "    Q = np.zeros((2, 1))  # No input\n",
    "    Q = Q - D * np.array([[omega1], [omega2]])\n",
    "\n",
    "    xy = np.linalg.pinv(M) @ (Q - V - G)\n",
    "\n",
    "    xp = np.zeros(4)\n",
    "    xp[0] = omega1\n",
    "    xp[1] = omega2\n",
    "    xp[2] = xy[0, 0]\n",
    "    xp[3] = xy[1, 0]\n",
    "\n",
    "    return xp"
   ]
  }
 ],
 "metadata": {
  "kernelspec": {
   "display_name": "Python 3",
   "language": "python",
   "name": "python3"
  },
  "language_info": {
   "codemirror_mode": {
    "name": "ipython",
    "version": 3
   },
   "file_extension": ".py",
   "mimetype": "text/x-python",
   "name": "python",
   "nbconvert_exporter": "python",
   "pygments_lexer": "ipython3",
   "version": "3.12.2"
  }
 },
 "nbformat": 4,
 "nbformat_minor": 2
}
