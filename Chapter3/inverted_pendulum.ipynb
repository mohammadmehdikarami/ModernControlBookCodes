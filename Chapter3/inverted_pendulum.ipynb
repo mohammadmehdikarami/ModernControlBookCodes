{
 "cells": [
  {
   "cell_type": "markdown",
   "metadata": {},
   "source": [
    "## Import necessary libraries"
   ]
  },
  {
   "cell_type": "code",
   "execution_count": 1,
   "metadata": {},
   "outputs": [],
   "source": [
    "import numpy as np"
   ]
  },
  {
   "cell_type": "markdown",
   "metadata": {},
   "source": [
    "## Define the model of the inverted pendulum"
   ]
  },
  {
   "cell_type": "code",
   "execution_count": 2,
   "metadata": {},
   "outputs": [],
   "source": [
    "def inverted_pendulum(x, t):\n",
    "    g = 9.8\n",
    "    l = 1.0\n",
    "    m = 1.0\n",
    "    M = 1.0\n",
    "    \n",
    "    d1 = M + m * (1 - np.cos(x[1])**2)\n",
    "    d2 = l * d1\n",
    "    \n",
    "    F = 0  # No input\n",
    "    \n",
    "    xp = np.zeros(4)\n",
    "    xp[0] = x[2]\n",
    "    xp[1] = x[3]\n",
    "    xp[2] = (F + m * l * x[3]**2 * np.sin(x[1]) - m * g * np.sin(x[1]) * np.cos(x[1])) / d1\n",
    "    xp[3] = (-F * np.cos(x[1]) - m * l * x[3]**2 * np.sin(x[1]) * np.cos(x[1]) + (M + m) * g * np.sin(x[1])) / d2\n",
    "    \n",
    "    return xp\n"
   ]
  }
 ],
 "metadata": {
  "kernelspec": {
   "display_name": "Python 3",
   "language": "python",
   "name": "python3"
  },
  "language_info": {
   "codemirror_mode": {
    "name": "ipython",
    "version": 3
   },
   "file_extension": ".py",
   "mimetype": "text/x-python",
   "name": "python",
   "nbconvert_exporter": "python",
   "pygments_lexer": "ipython3",
   "version": "3.12.2"
  }
 },
 "nbformat": 4,
 "nbformat_minor": 2
}
