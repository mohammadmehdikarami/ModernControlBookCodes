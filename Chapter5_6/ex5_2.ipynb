{
 "cells": [
  {
   "cell_type": "markdown",
   "metadata": {},
   "source": [
    "## Import necessary libraries"
   ]
  },
  {
   "cell_type": "code",
   "execution_count": 1,
   "metadata": {},
   "outputs": [],
   "source": [
    "import numpy as np\n",
    "import control"
   ]
  },
  {
   "cell_type": "markdown",
   "metadata": {},
   "source": [
    "## Define the first state-space system"
   ]
  },
  {
   "cell_type": "code",
   "execution_count": 2,
   "metadata": {},
   "outputs": [
    {
     "name": "stdout",
     "output_type": "stream",
     "text": [
      "Transfer Function (sys1):\n",
      "<TransferFunction>: sys[1]\n",
      "Inputs (1): ['u[0]']\n",
      "Outputs (1): ['y[0]']\n",
      "\n",
      "\n",
      "    s^2 - 2 s + 1\n",
      "---------------------\n",
      "s^3 + 4 s^2 + 5 s + 2\n",
      "\n"
     ]
    }
   ],
   "source": [
    "A1 = np.array([[-1, 1, 0], [0, -1, 0], [0, 0, -2]])\n",
    "B1 = np.array([[0], [1], [1]])\n",
    "C1 = np.array([[4, -8, 9]])\n",
    "D1 = np.array([[0]])\n",
    "sys1 = control.ss(A1, B1, C1, D1)\n",
    "tf1 = control.ss2tf(sys1)\n",
    "\n",
    "print(\"Transfer Function (sys1):\")\n",
    "print(tf1)"
   ]
  },
  {
   "cell_type": "markdown",
   "metadata": {},
   "source": [
    "## Define the second state-space system"
   ]
  },
  {
   "cell_type": "code",
   "execution_count": 3,
   "metadata": {},
   "outputs": [
    {
     "name": "stdout",
     "output_type": "stream",
     "text": [
      "\n",
      "Transfer Function (sys2):\n",
      "<TransferFunction>: sys[3]\n",
      "Inputs (1): ['u[0]']\n",
      "Outputs (1): ['y[0]']\n",
      "\n",
      "\n",
      "    s^2 - 2 s + 1\n",
      "---------------------\n",
      "s^3 + 4 s^2 + 5 s + 2\n",
      "\n"
     ]
    }
   ],
   "source": [
    "A2 = np.array([[-1, 0, 0], [1, -1, 0], [0, 0, -2]])\n",
    "B2 = np.array([[4], [-8], [9]])\n",
    "C2 = np.array([[0, 1, 1]])\n",
    "D2 = np.array([[0]])\n",
    "sys2 = control.ss(A2, B2, C2, D2)\n",
    "tf2 = control.ss2tf(sys2)\n",
    "\n",
    "print(\"\\nTransfer Function (sys2):\")\n",
    "print(tf2)"
   ]
  }
 ],
 "metadata": {
  "kernelspec": {
   "display_name": "Python 3",
   "language": "python",
   "name": "python3"
  },
  "language_info": {
   "codemirror_mode": {
    "name": "ipython",
    "version": 3
   },
   "file_extension": ".py",
   "mimetype": "text/x-python",
   "name": "python",
   "nbconvert_exporter": "python",
   "pygments_lexer": "ipython3",
   "version": "3.12.2"
  }
 },
 "nbformat": 4,
 "nbformat_minor": 2
}
