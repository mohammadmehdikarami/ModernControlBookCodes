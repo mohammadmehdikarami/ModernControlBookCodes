{
 "cells": [
  {
   "cell_type": "markdown",
   "metadata": {},
   "source": [
    "## Import necessary libraries"
   ]
  },
  {
   "cell_type": "code",
   "execution_count": 1,
   "metadata": {},
   "outputs": [],
   "source": [
    "import numpy as np\n",
    "import control"
   ]
  },
  {
   "cell_type": "markdown",
   "metadata": {},
   "source": [
    "## Define the first state-space system"
   ]
  },
  {
   "cell_type": "code",
   "execution_count": 2,
   "metadata": {},
   "outputs": [
    {
     "name": "stdout",
     "output_type": "stream",
     "text": [
      "Transfer Function (sys1):\n",
      "<TransferFunction>: sys[1]\n",
      "Inputs (1): ['u[0]']\n",
      "Outputs (1): ['y[0]']\n",
      "\n",
      "\n",
      "s^2 - 8.882e-15 s + 1\n",
      "----------------------\n",
      "s^3 + 6 s^2 + 11 s + 5\n",
      "\n"
     ]
    }
   ],
   "source": [
    "A1 = np.array([[0, 1, 0], [0, 0, 1], [-5, -11, -6]])\n",
    "B1 = np.array([[0], [0], [1]])\n",
    "C1 = np.array([[1, 0, 1]])\n",
    "D1 = np.array([[0]])\n",
    "sys1 = control.ss(A1, B1, C1, D1)\n",
    "tf1 = control.ss2tf(sys1)\n",
    "\n",
    "print(\"Transfer Function (sys1):\")\n",
    "print(tf1)"
   ]
  },
  {
   "cell_type": "markdown",
   "metadata": {},
   "source": [
    "## Define the second state-space system"
   ]
  },
  {
   "cell_type": "code",
   "execution_count": 3,
   "metadata": {},
   "outputs": [
    {
     "name": "stdout",
     "output_type": "stream",
     "text": [
      "\n",
      "Transfer Function (sys2):\n",
      "<TransferFunction>: sys[3]\n",
      "Inputs (1): ['u[0]']\n",
      "Outputs (1): ['y[0]']\n",
      "\n",
      "\n",
      "s^2 - 8.882e-15 s + 1\n",
      "----------------------\n",
      "s^3 + 6 s^2 + 11 s + 5\n",
      "\n"
     ]
    }
   ],
   "source": [
    "A2 = np.array([[0, 0, -5], [1, 0, -11], [0, 1, -6]])\n",
    "B2 = np.array([[1], [0], [1]])\n",
    "C2 = np.array([[0, 0, 1]])\n",
    "D2 = np.array([[0]])\n",
    "sys2 = control.ss(A2, B2, C2, D2)\n",
    "tf2 = control.ss2tf(sys2)\n",
    "\n",
    "print(\"\\nTransfer Function (sys2):\")\n",
    "print(tf2)"
   ]
  },
  {
   "cell_type": "markdown",
   "metadata": {},
   "source": [
    "## Define the third state-space system"
   ]
  },
  {
   "cell_type": "code",
   "execution_count": 4,
   "metadata": {},
   "outputs": [
    {
     "name": "stdout",
     "output_type": "stream",
     "text": [
      "\n",
      "Transfer Function (sys3):\n",
      "<TransferFunction>: sys[5]\n",
      "Inputs (1): ['u[0]']\n",
      "Outputs (1): ['y[0]']\n",
      "\n",
      "\n",
      "s^2 - 3.375e-14 s + 1\n",
      "----------------------\n",
      "s^3 + 6 s^2 + 11 s + 5\n",
      "\n"
     ]
    }
   ],
   "source": [
    "A3 = np.array([[0, 1, 0], [0, 0, 1], [-5, -11, -6]])\n",
    "B3 = np.array([[1], [-6], [26]])\n",
    "C3 = np.array([[1, 0, 0]])\n",
    "D3 = np.array([[0]])\n",
    "sys3 = control.ss(A3, B3, C3, D3)\n",
    "tf3 = control.ss2tf(sys3)\n",
    "\n",
    "print(\"\\nTransfer Function (sys3):\")\n",
    "print(tf3)"
   ]
  },
  {
   "cell_type": "markdown",
   "metadata": {},
   "source": [
    "## Observability matrix"
   ]
  },
  {
   "cell_type": "code",
   "execution_count": 5,
   "metadata": {},
   "outputs": [
    {
     "name": "stdout",
     "output_type": "stream",
     "text": [
      "\n",
      "Observability Matrix (sys3):\n",
      "[[1. 0. 0.]\n",
      " [0. 1. 0.]\n",
      " [0. 0. 1.]]\n",
      "Rank of Observability Matrix (sys3): 3\n"
     ]
    }
   ],
   "source": [
    "O3 = control.obsv(A3, C3)\n",
    "rank_O3 = np.linalg.matrix_rank(O3)\n",
    "print(\"\\nObservability Matrix (sys3):\")\n",
    "print(O3)\n",
    "print(\"Rank of Observability Matrix (sys3):\", rank_O3)"
   ]
  },
  {
   "cell_type": "markdown",
   "metadata": {},
   "source": [
    "## Define the fourth state-space system"
   ]
  },
  {
   "cell_type": "code",
   "execution_count": 6,
   "metadata": {},
   "outputs": [
    {
     "name": "stdout",
     "output_type": "stream",
     "text": [
      "\n",
      "Transfer Function (sys4):\n",
      "<TransferFunction>: sys[7]\n",
      "Inputs (1): ['u[0]']\n",
      "Outputs (1): ['y[0]']\n",
      "\n",
      "\n",
      "s^2 + 5.329e-15 s + 1\n",
      "----------------------\n",
      "s^3 + 6 s^2 + 11 s + 5\n",
      "\n"
     ]
    }
   ],
   "source": [
    "A4 = np.array([[0, 0, -5], [1, 0, -11], [0, 1, -6]])\n",
    "B4 = np.array([[1], [0], [0]])\n",
    "C4 = np.array([[1, -6, 26]])\n",
    "D4 = np.array([[0]])\n",
    "sys4 = control.ss(A4, B4, C4, D4)\n",
    "tf4 = control.ss2tf(sys4)\n",
    "\n",
    "print(\"\\nTransfer Function (sys4):\")\n",
    "print(tf4)"
   ]
  },
  {
   "cell_type": "markdown",
   "metadata": {},
   "source": [
    "## Controllability matrix"
   ]
  },
  {
   "cell_type": "code",
   "execution_count": 7,
   "metadata": {},
   "outputs": [
    {
     "name": "stdout",
     "output_type": "stream",
     "text": [
      "\n",
      "Controllability Matrix (sys4):\n",
      "[[1. 0. 0.]\n",
      " [0. 1. 0.]\n",
      " [0. 0. 1.]]\n",
      "Rank of Controllability Matrix (sys4): 3\n"
     ]
    }
   ],
   "source": [
    "C4 = control.ctrb(A4, B4)\n",
    "rank_C4 = np.linalg.matrix_rank(C4)\n",
    "print(\"\\nControllability Matrix (sys4):\")\n",
    "print(C4)\n",
    "print(\"Rank of Controllability Matrix (sys4):\", rank_C4)"
   ]
  },
  {
   "cell_type": "markdown",
   "metadata": {},
   "source": [
    "## Transfer function to state-space"
   ]
  },
  {
   "cell_type": "code",
   "execution_count": 11,
   "metadata": {},
   "outputs": [
    {
     "name": "stdout",
     "output_type": "stream",
     "text": [
      "\n",
      "State-Space Representation from Transfer Function:\n",
      "A matrix:\n",
      " [[ -6. -11.  -5.]\n",
      " [  1.   0.   0.]\n",
      " [  0.   1.   0.]]\n",
      "B matrix:\n",
      " [[1.]\n",
      " [0.]\n",
      " [0.]]\n",
      "C matrix:\n",
      " [[1. 0. 1.]]\n",
      "D matrix:\n",
      " [[0.]]\n",
      "\n",
      "State-Space Representation from Transfer Function:\n",
      "A matrix:\n",
      " [[ -6. -11.  -5.]\n",
      " [  1.   0.   0.]\n",
      " [  0.   1.   0.]]\n",
      "B matrix:\n",
      " [[1.]\n",
      " [0.]\n",
      " [0.]]\n",
      "C matrix:\n",
      " [[1. 0. 1.]]\n",
      "D matrix:\n",
      " [[0.]]\n"
     ]
    }
   ],
   "source": [
    "num = [1, 0, 1]\n",
    "den = [1, 6, 11, 5]\n",
    "sys_tf = control.tf(num, den)\n",
    "sys5 = control.tf2ss(num, den)\n",
    "sys_ss = control.ss(sys_tf)\n",
    "\n",
    "print(\"\\nState-Space Representation from Transfer Function:\")\n",
    "print(\"A matrix:\\n\", sys5.A)\n",
    "print(\"B matrix:\\n\", sys5.B)\n",
    "print(\"C matrix:\\n\", sys5.C)\n",
    "print(\"D matrix:\\n\", sys5.D)\n",
    "\n",
    "print(\"\\nState-Space Representation from Transfer Function:\")\n",
    "print(\"A matrix:\\n\", sys_ss.A)\n",
    "print(\"B matrix:\\n\", sys_ss.B)\n",
    "print(\"C matrix:\\n\", sys_ss.C)\n",
    "print(\"D matrix:\\n\", sys_ss.D)"
   ]
  }
 ],
 "metadata": {
  "kernelspec": {
   "display_name": "Python 3",
   "language": "python",
   "name": "python3"
  },
  "language_info": {
   "codemirror_mode": {
    "name": "ipython",
    "version": 3
   },
   "file_extension": ".py",
   "mimetype": "text/x-python",
   "name": "python",
   "nbconvert_exporter": "python",
   "pygments_lexer": "ipython3",
   "version": "3.12.2"
  }
 },
 "nbformat": 4,
 "nbformat_minor": 2
}
